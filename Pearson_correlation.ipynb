{
 "cells": [
  {
   "cell_type": "code",
   "execution_count": 9,
   "id": "85789177-ab66-4e72-a576-c4fbbb7179c9",
   "metadata": {},
   "outputs": [
    {
     "name": "stderr",
     "output_type": "stream",
     "text": [
      "Warning message:\n",
      "\"package 'Hmisc' is not available (for R version 3.6.1)\"Warning message:\n",
      "\"unable to access index for repository https://cran.r-project.org/bin/windows/contrib/3.6:\n",
      "  cannot open URL 'https://cran.r-project.org/bin/windows/contrib/3.6/PACKAGES'\""
     ]
    }
   ],
   "source": [
    "install.packages(\"Hmisc\")  # Run once if needed"
   ]
  },
  {
   "cell_type": "code",
   "execution_count": 11,
   "id": "5349c140-748b-43d3-a371-6cfedbaa5b3d",
   "metadata": {},
   "outputs": [
    {
     "ename": "ERROR",
     "evalue": "Error in library(hmisc): there is no package called 'hmisc'\n",
     "output_type": "error",
     "traceback": [
      "Error in library(hmisc): there is no package called 'hmisc'\nTraceback:\n",
      "1. library(hmisc)"
     ]
    }
   ],
   "source": [
    "library(hmisc)"
   ]
  },
  {
   "cell_type": "code",
   "execution_count": 1,
   "id": "40d4dfcc-ce8d-4d3a-8165-9e9282f1fc35",
   "metadata": {},
   "outputs": [],
   "source": [
    "df <- read.csv(\"ipsc_differentiation_data_with_genes.csv\")"
   ]
  },
  {
   "cell_type": "code",
   "execution_count": 3,
   "id": "dc21832a-ef38-466d-825b-3d522c9955e2",
   "metadata": {},
   "outputs": [
    {
     "data": {
      "text/html": [
       "<table>\n",
       "<thead><tr><th scope=col>Batch_ID</th><th scope=col>BMP4</th><th scope=col>ActivinA</th><th scope=col>FGF2</th><th scope=col>Wnt3a</th><th scope=col>O2_Level</th><th scope=col>Seeding_Density</th><th scope=col>Passage_Number</th><th scope=col>POU5F1</th><th scope=col>NANOG</th><th scope=col>SOX2</th><th scope=col>CDX2</th><th scope=col>NEUROD1</th><th scope=col>Purity</th><th scope=col>Viability</th><th scope=col>Yield</th></tr></thead>\n",
       "<tbody>\n",
       "\t<tr><td>Batch_001 </td><td>37.45401  </td><td> 3.142919 </td><td>64.2031646</td><td> 5.168172 </td><td> 5        </td><td> 85625.97 </td><td> 6        </td><td>6.300274  </td><td>7.558737  </td><td>4.614774  </td><td>5.400576  </td><td>4.432561  </td><td> 6.748511 </td><td>85.36144  </td><td>81.52101  </td></tr>\n",
       "\t<tr><td>Batch_002 </td><td>95.07143  </td><td>63.641041 </td><td> 8.4139965</td><td>53.135463 </td><td>10        </td><td>110033.43 </td><td>10        </td><td>5.706555  </td><td>4.951505  </td><td>6.536430  </td><td>6.101679  </td><td>5.820169  </td><td>15.588150 </td><td>95.95572  </td><td>92.91826  </td></tr>\n",
       "\t<tr><td>Batch_003 </td><td>73.19939  </td><td>31.435598 </td><td>16.1628714</td><td>54.063512 </td><td> 5        </td><td>121657.23 </td><td>22        </td><td>4.462686  </td><td>6.242230  </td><td>2.566215  </td><td>4.575027  </td><td>4.600644  </td><td>12.413152 </td><td>75.76954  </td><td>86.63655  </td></tr>\n",
       "\t<tr><td>Batch_004 </td><td>59.86585  </td><td>50.857069 </td><td>89.8554189</td><td>63.742990 </td><td> 5        </td><td> 62433.70 </td><td> 6        </td><td>6.352795  </td><td>6.514842  </td><td>5.511483  </td><td>5.183081  </td><td>4.597046  </td><td>12.399866 </td><td>93.14718  </td><td>68.92647  </td></tr>\n",
       "\t<tr><td>Batch_005 </td><td>15.60186  </td><td>90.756647 </td><td>60.6429060</td><td>72.609133 </td><td>10        </td><td>129255.52 </td><td>22        </td><td>3.693130  </td><td>4.254711  </td><td>5.038357  </td><td>4.534482  </td><td>3.246656  </td><td>13.342285 </td><td>74.81776  </td><td>95.39072  </td></tr>\n",
       "\t<tr><td>Batch_006 </td><td>15.59945  </td><td>24.929223 </td><td> 0.9197052</td><td>97.585208 </td><td> 5        </td><td>115450.37 </td><td>19        </td><td>4.659876  </td><td>5.581767  </td><td>2.883724  </td><td>5.173527  </td><td>3.886228  </td><td> 7.093958 </td><td>77.52122  </td><td>79.01290  </td></tr>\n",
       "</tbody>\n",
       "</table>\n"
      ],
      "text/latex": [
       "\\begin{tabular}{r|llllllllllllllll}\n",
       " Batch\\_ID & BMP4 & ActivinA & FGF2 & Wnt3a & O2\\_Level & Seeding\\_Density & Passage\\_Number & POU5F1 & NANOG & SOX2 & CDX2 & NEUROD1 & Purity & Viability & Yield\\\\\n",
       "\\hline\n",
       "\t Batch\\_001 & 37.45401    &  3.142919   & 64.2031646  &  5.168172   &  5          &  85625.97   &  6          & 6.300274    & 7.558737    & 4.614774    & 5.400576    & 4.432561    &  6.748511   & 85.36144    & 81.52101   \\\\\n",
       "\t Batch\\_002 & 95.07143    & 63.641041   &  8.4139965  & 53.135463   & 10          & 110033.43   & 10          & 5.706555    & 4.951505    & 6.536430    & 6.101679    & 5.820169    & 15.588150   & 95.95572    & 92.91826   \\\\\n",
       "\t Batch\\_003 & 73.19939    & 31.435598   & 16.1628714  & 54.063512   &  5          & 121657.23   & 22          & 4.462686    & 6.242230    & 2.566215    & 4.575027    & 4.600644    & 12.413152   & 75.76954    & 86.63655   \\\\\n",
       "\t Batch\\_004 & 59.86585    & 50.857069   & 89.8554189  & 63.742990   &  5          &  62433.70   &  6          & 6.352795    & 6.514842    & 5.511483    & 5.183081    & 4.597046    & 12.399866   & 93.14718    & 68.92647   \\\\\n",
       "\t Batch\\_005 & 15.60186    & 90.756647   & 60.6429060  & 72.609133   & 10          & 129255.52   & 22          & 3.693130    & 4.254711    & 5.038357    & 4.534482    & 3.246656    & 13.342285   & 74.81776    & 95.39072   \\\\\n",
       "\t Batch\\_006 & 15.59945    & 24.929223   &  0.9197052  & 97.585208   &  5          & 115450.37   & 19          & 4.659876    & 5.581767    & 2.883724    & 5.173527    & 3.886228    &  7.093958   & 77.52122    & 79.01290   \\\\\n",
       "\\end{tabular}\n"
      ],
      "text/markdown": [
       "\n",
       "| Batch_ID | BMP4 | ActivinA | FGF2 | Wnt3a | O2_Level | Seeding_Density | Passage_Number | POU5F1 | NANOG | SOX2 | CDX2 | NEUROD1 | Purity | Viability | Yield |\n",
       "|---|---|---|---|---|---|---|---|---|---|---|---|---|---|---|---|\n",
       "| Batch_001  | 37.45401   |  3.142919  | 64.2031646 |  5.168172  |  5         |  85625.97  |  6         | 6.300274   | 7.558737   | 4.614774   | 5.400576   | 4.432561   |  6.748511  | 85.36144   | 81.52101   |\n",
       "| Batch_002  | 95.07143   | 63.641041  |  8.4139965 | 53.135463  | 10         | 110033.43  | 10         | 5.706555   | 4.951505   | 6.536430   | 6.101679   | 5.820169   | 15.588150  | 95.95572   | 92.91826   |\n",
       "| Batch_003  | 73.19939   | 31.435598  | 16.1628714 | 54.063512  |  5         | 121657.23  | 22         | 4.462686   | 6.242230   | 2.566215   | 4.575027   | 4.600644   | 12.413152  | 75.76954   | 86.63655   |\n",
       "| Batch_004  | 59.86585   | 50.857069  | 89.8554189 | 63.742990  |  5         |  62433.70  |  6         | 6.352795   | 6.514842   | 5.511483   | 5.183081   | 4.597046   | 12.399866  | 93.14718   | 68.92647   |\n",
       "| Batch_005  | 15.60186   | 90.756647  | 60.6429060 | 72.609133  | 10         | 129255.52  | 22         | 3.693130   | 4.254711   | 5.038357   | 4.534482   | 3.246656   | 13.342285  | 74.81776   | 95.39072   |\n",
       "| Batch_006  | 15.59945   | 24.929223  |  0.9197052 | 97.585208  |  5         | 115450.37  | 19         | 4.659876   | 5.581767   | 2.883724   | 5.173527   | 3.886228   |  7.093958  | 77.52122   | 79.01290   |\n",
       "\n"
      ],
      "text/plain": [
       "  Batch_ID  BMP4     ActivinA  FGF2       Wnt3a     O2_Level Seeding_Density\n",
       "1 Batch_001 37.45401  3.142919 64.2031646  5.168172  5        85625.97      \n",
       "2 Batch_002 95.07143 63.641041  8.4139965 53.135463 10       110033.43      \n",
       "3 Batch_003 73.19939 31.435598 16.1628714 54.063512  5       121657.23      \n",
       "4 Batch_004 59.86585 50.857069 89.8554189 63.742990  5        62433.70      \n",
       "5 Batch_005 15.60186 90.756647 60.6429060 72.609133 10       129255.52      \n",
       "6 Batch_006 15.59945 24.929223  0.9197052 97.585208  5       115450.37      \n",
       "  Passage_Number POU5F1   NANOG    SOX2     CDX2     NEUROD1  Purity   \n",
       "1  6             6.300274 7.558737 4.614774 5.400576 4.432561  6.748511\n",
       "2 10             5.706555 4.951505 6.536430 6.101679 5.820169 15.588150\n",
       "3 22             4.462686 6.242230 2.566215 4.575027 4.600644 12.413152\n",
       "4  6             6.352795 6.514842 5.511483 5.183081 4.597046 12.399866\n",
       "5 22             3.693130 4.254711 5.038357 4.534482 3.246656 13.342285\n",
       "6 19             4.659876 5.581767 2.883724 5.173527 3.886228  7.093958\n",
       "  Viability Yield   \n",
       "1 85.36144  81.52101\n",
       "2 95.95572  92.91826\n",
       "3 75.76954  86.63655\n",
       "4 93.14718  68.92647\n",
       "5 74.81776  95.39072\n",
       "6 77.52122  79.01290"
      ]
     },
     "metadata": {},
     "output_type": "display_data"
    }
   ],
   "source": [
    "head(df)"
   ]
  },
  {
   "cell_type": "code",
   "execution_count": 5,
   "id": "d87d56cb-be86-4133-bc1a-d34e0c9c368c",
   "metadata": {},
   "outputs": [
    {
     "name": "stdout",
     "output_type": "stream",
     "text": [
      "'data.frame':\t100 obs. of  16 variables:\n",
      " $ Batch_ID       : Factor w/ 100 levels \"Batch_001\",\"Batch_002\",..: 1 2 3 4 5 6 7 8 9 10 ...\n",
      " $ BMP4           : num  37.5 95.1 73.2 59.9 15.6 ...\n",
      " $ ActivinA       : num  3.14 63.64 31.44 50.86 90.76 ...\n",
      " $ FGF2           : num  64.2 8.41 16.16 89.86 60.64 ...\n",
      " $ Wnt3a          : num  5.17 53.14 54.06 63.74 72.61 ...\n",
      " $ O2_Level       : int  5 10 5 5 10 5 10 5 20 20 ...\n",
      " $ Seeding_Density: num  85626 110033 121657 62434 129256 ...\n",
      " $ Passage_Number : int  6 10 22 6 22 19 23 6 24 29 ...\n",
      " $ POU5F1         : num  6.3 5.71 4.46 6.35 3.69 ...\n",
      " $ NANOG          : num  7.56 4.95 6.24 6.51 4.25 ...\n",
      " $ SOX2           : num  4.61 6.54 2.57 5.51 5.04 ...\n",
      " $ CDX2           : num  5.4 6.1 4.58 5.18 4.53 ...\n",
      " $ NEUROD1        : num  4.43 5.82 4.6 4.6 3.25 ...\n",
      " $ Purity         : num  6.75 15.59 12.41 12.4 13.34 ...\n",
      " $ Viability      : num  85.4 96 75.8 93.1 74.8 ...\n",
      " $ Yield          : num  81.5 92.9 86.6 68.9 95.4 ...\n"
     ]
    }
   ],
   "source": [
    "# Check structure\n",
    "str(df)"
   ]
  },
  {
   "cell_type": "code",
   "execution_count": null,
   "id": "9277f518-52ae-4b69-a117-6f6fca961cc1",
   "metadata": {},
   "outputs": [],
   "source": [
    "# Select numeric features\n",
    "num_df <- df[, sapply(df, is.numeric)]"
   ]
  }
 ],
 "metadata": {
  "kernelspec": {
   "display_name": "R [conda env:base] *",
   "language": "R",
   "name": "conda-base-r"
  },
  "language_info": {
   "codemirror_mode": "r",
   "file_extension": ".r",
   "mimetype": "text/x-r-source",
   "name": "R",
   "pygments_lexer": "r",
   "version": "3.6.1"
  }
 },
 "nbformat": 4,
 "nbformat_minor": 5
}
