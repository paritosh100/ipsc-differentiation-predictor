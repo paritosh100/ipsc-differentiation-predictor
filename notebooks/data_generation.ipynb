{
 "cells": [
  {
   "cell_type": "markdown",
   "id": "143407d1",
   "metadata": {},
   "source": [
    "# Import Libraries"
   ]
  },
  {
   "cell_type": "code",
   "execution_count": 2,
   "id": "d90c0661",
   "metadata": {},
   "outputs": [],
   "source": [
    "import pandas as pd\n",
    "import numpy as np"
   ]
  },
  {
   "cell_type": "markdown",
   "id": "0099e975",
   "metadata": {},
   "source": [
    "## Set random seed for reproducibility"
   ]
  },
  {
   "cell_type": "code",
   "execution_count": 4,
   "id": "f00dfbf2",
   "metadata": {},
   "outputs": [],
   "source": [
    "np.random.seed(42)"
   ]
  },
  {
   "cell_type": "markdown",
   "id": "2afcaa4e",
   "metadata": {},
   "source": [
    "# Number of simulated batches"
   ]
  },
  {
   "cell_type": "code",
   "execution_count": 6,
   "id": "6573df9a",
   "metadata": {},
   "outputs": [],
   "source": [
    "n_samples = 100"
   ]
  },
  {
   "cell_type": "markdown",
   "id": "8ad73656",
   "metadata": {},
   "source": [
    "# Create basic protocol inputs"
   ]
  },
  {
   "cell_type": "code",
   "execution_count": 8,
   "id": "4214e580",
   "metadata": {},
   "outputs": [],
   "source": [
    "df = pd.DataFrame({\n",
    "    'Batch_ID': [f'Batch_{i+1:03}' for i in range(n_samples)],\n",
    "    'BMP4': np.random.uniform(0, 100, n_samples),          # cytokine level in ng/mL\n",
    "    'ActivinA': np.random.uniform(0, 100, n_samples),\n",
    "    'FGF2': np.random.uniform(0, 100, n_samples),\n",
    "    'Wnt3a': np.random.uniform(0, 100, n_samples),\n",
    "    'O2_Level': np.random.choice([5, 10, 20], n_samples),   # % O2 concentration\n",
    "    'Seeding_Density': np.random.uniform(5e4, 2e5, n_samples),\n",
    "    'Passage_Number': np.random.randint(5, 30, n_samples),\n",
    "})"
   ]
  },
  {
   "cell_type": "code",
   "execution_count": 9,
   "id": "aaaf0802",
   "metadata": {},
   "outputs": [],
   "source": [
    "df.to_csv(\"ipsc_differentiation_data.csv\", index=False)"
   ]
  },
  {
   "cell_type": "code",
   "execution_count": 10,
   "id": "55e71e5b",
   "metadata": {},
   "outputs": [
    {
     "data": {
      "text/html": [
       "<div>\n",
       "<style scoped>\n",
       "    .dataframe tbody tr th:only-of-type {\n",
       "        vertical-align: middle;\n",
       "    }\n",
       "\n",
       "    .dataframe tbody tr th {\n",
       "        vertical-align: top;\n",
       "    }\n",
       "\n",
       "    .dataframe thead th {\n",
       "        text-align: right;\n",
       "    }\n",
       "</style>\n",
       "<table border=\"1\" class=\"dataframe\">\n",
       "  <thead>\n",
       "    <tr style=\"text-align: right;\">\n",
       "      <th></th>\n",
       "      <th>Batch_ID</th>\n",
       "      <th>BMP4</th>\n",
       "      <th>ActivinA</th>\n",
       "      <th>FGF2</th>\n",
       "      <th>Wnt3a</th>\n",
       "      <th>O2_Level</th>\n",
       "      <th>Seeding_Density</th>\n",
       "      <th>Passage_Number</th>\n",
       "    </tr>\n",
       "  </thead>\n",
       "  <tbody>\n",
       "    <tr>\n",
       "      <th>0</th>\n",
       "      <td>Batch_001</td>\n",
       "      <td>37.454012</td>\n",
       "      <td>3.142919</td>\n",
       "      <td>64.203165</td>\n",
       "      <td>5.168172</td>\n",
       "      <td>5</td>\n",
       "      <td>85625.970694</td>\n",
       "      <td>6</td>\n",
       "    </tr>\n",
       "    <tr>\n",
       "      <th>1</th>\n",
       "      <td>Batch_002</td>\n",
       "      <td>95.071431</td>\n",
       "      <td>63.641041</td>\n",
       "      <td>8.413996</td>\n",
       "      <td>53.135463</td>\n",
       "      <td>10</td>\n",
       "      <td>110033.433931</td>\n",
       "      <td>10</td>\n",
       "    </tr>\n",
       "    <tr>\n",
       "      <th>2</th>\n",
       "      <td>Batch_003</td>\n",
       "      <td>73.199394</td>\n",
       "      <td>31.435598</td>\n",
       "      <td>16.162871</td>\n",
       "      <td>54.063512</td>\n",
       "      <td>5</td>\n",
       "      <td>121657.233632</td>\n",
       "      <td>22</td>\n",
       "    </tr>\n",
       "    <tr>\n",
       "      <th>3</th>\n",
       "      <td>Batch_004</td>\n",
       "      <td>59.865848</td>\n",
       "      <td>50.857069</td>\n",
       "      <td>89.855419</td>\n",
       "      <td>63.742990</td>\n",
       "      <td>5</td>\n",
       "      <td>62433.698254</td>\n",
       "      <td>6</td>\n",
       "    </tr>\n",
       "    <tr>\n",
       "      <th>4</th>\n",
       "      <td>Batch_005</td>\n",
       "      <td>15.601864</td>\n",
       "      <td>90.756647</td>\n",
       "      <td>60.642906</td>\n",
       "      <td>72.609133</td>\n",
       "      <td>10</td>\n",
       "      <td>129255.518195</td>\n",
       "      <td>22</td>\n",
       "    </tr>\n",
       "  </tbody>\n",
       "</table>\n",
       "</div>"
      ],
      "text/plain": [
       "    Batch_ID       BMP4   ActivinA       FGF2      Wnt3a  O2_Level  \\\n",
       "0  Batch_001  37.454012   3.142919  64.203165   5.168172         5   \n",
       "1  Batch_002  95.071431  63.641041   8.413996  53.135463        10   \n",
       "2  Batch_003  73.199394  31.435598  16.162871  54.063512         5   \n",
       "3  Batch_004  59.865848  50.857069  89.855419  63.742990         5   \n",
       "4  Batch_005  15.601864  90.756647  60.642906  72.609133        10   \n",
       "\n",
       "   Seeding_Density  Passage_Number  \n",
       "0     85625.970694               6  \n",
       "1    110033.433931              10  \n",
       "2    121657.233632              22  \n",
       "3     62433.698254               6  \n",
       "4    129255.518195              22  "
      ]
     },
     "execution_count": 10,
     "metadata": {},
     "output_type": "execute_result"
    }
   ],
   "source": [
    "df.head()"
   ]
  },
  {
   "cell_type": "code",
   "execution_count": 11,
   "id": "32ffd845",
   "metadata": {},
   "outputs": [],
   "source": [
    "# Add gene expression features (log-scale, centered at ~5)\n",
    "marker_genes = ['POU5F1', 'NANOG', 'SOX2', 'CDX2', 'NEUROD1']\n",
    "\n",
    "for gene in marker_genes:\n",
    "    df[gene] = np.random.normal(loc=5, scale=1.5, size=n_samples)"
   ]
  },
  {
   "cell_type": "code",
   "execution_count": 12,
   "id": "cb83d16e-9057-4896-b02b-6e876ca7d65c",
   "metadata": {},
   "outputs": [],
   "source": [
    "# Simulate Purity (based on BMP4, ActivinA, SOX2)\n",
    "df['Purity'] = (\n",
    "    0.3 * df['BMP4'] +\n",
    "    0.2 * df['ActivinA'] +\n",
    "    0.4 * df['SOX2'] +\n",
    "    np.random.normal(0, 5, n_samples)\n",
    ") / 2.5\n",
    "\n",
    "# Simulate Viability (negatively impacted by passage number, low O2)\n",
    "df['Viability'] = (\n",
    "    100 -\n",
    "    0.8 * df['Passage_Number'] -\n",
    "    0.5 * (20 - df['O2_Level']) +\n",
    "    np.random.normal(0, 5, n_samples)\n",
    ")\n",
    "\n",
    "# Simulate Yield (depends on NANOG and Seeding Density)\n",
    "df['Yield'] = (\n",
    "    0.0005 * df['Seeding_Density'] +\n",
    "    5 * df['NANOG'] +\n",
    "    np.random.normal(0, 10, n_samples)\n",
    ")"
   ]
  },
  {
   "cell_type": "code",
   "execution_count": 13,
   "id": "872db7c6-58ad-4e6c-b011-e43d0d28af3e",
   "metadata": {},
   "outputs": [],
   "source": [
    "# Clip outcome metrics to realistic bounds\n",
    "df['Purity'] = df['Purity'].clip(0, 100)\n",
    "df['Viability'] = df['Viability'].clip(0, 100)\n",
    "df['Yield'] = df['Yield'].clip(0, 500)"
   ]
  },
  {
   "cell_type": "code",
   "execution_count": null,
   "id": "3b8ef45b-73e4-4960-b0a4-407e99990235",
   "metadata": {},
   "outputs": [],
   "source": [
    "# df.to_csv(\"ipsc_differentiation_data_with_genes.csv\", index=False)"
   ]
  },
  {
   "cell_type": "code",
   "execution_count": 6,
   "id": "693ffd9c-77d0-46bc-b59e-097b06bb5619",
   "metadata": {},
   "outputs": [],
   "source": [
    "df = pd.read_csv(\"../data/ipsc_differentiation_data_with_genes.csv\")\n",
    "x = df.drop(columns=[\"Purity\", \"Viability\", \"Yield\",\"Batch_ID\"])"
   ]
  },
  {
   "cell_type": "code",
   "execution_count": 7,
   "id": "f0b9bbc7",
   "metadata": {},
   "outputs": [],
   "source": [
    "x.to_csv(\"../data/features_only.csv\",index=False)"
   ]
  },
  {
   "cell_type": "code",
   "execution_count": null,
   "id": "f017bc5f",
   "metadata": {},
   "outputs": [],
   "source": []
  }
 ],
 "metadata": {
  "kernelspec": {
   "display_name": "IPSC_Diff_opt-ZBeNaM51",
   "language": "python",
   "name": "python3"
  },
  "language_info": {
   "codemirror_mode": {
    "name": "ipython",
    "version": 3
   },
   "file_extension": ".py",
   "mimetype": "text/x-python",
   "name": "python",
   "nbconvert_exporter": "python",
   "pygments_lexer": "ipython3",
   "version": "3.13.7"
  }
 },
 "nbformat": 4,
 "nbformat_minor": 5
}
